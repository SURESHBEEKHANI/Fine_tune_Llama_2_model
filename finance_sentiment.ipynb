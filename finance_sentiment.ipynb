{
  "nbformat": 4,
  "nbformat_minor": 0,
  "metadata": {
    "colab": {
      "private_outputs": true,
      "provenance": [],
      "toc_visible": true,
      "gpuType": "T4",
      "authorship_tag": "ABX9TyOBjue2EQWbxIyBQWyRCbyg",
      "include_colab_link": true
    },
    "kernelspec": {
      "name": "python3",
      "display_name": "Python 3"
    },
    "language_info": {
      "name": "python"
    },
    "accelerator": "GPU"
  },
  "cells": [
    {
      "cell_type": "markdown",
      "metadata": {
        "id": "view-in-github",
        "colab_type": "text"
      },
      "source": [
        "<a href=\"https://colab.research.google.com/github/SURESHBEEKHANI/Fine_tune_Llama_2_model/blob/main/finance_sentiment.ipynb\" target=\"_parent\"><img src=\"https://colab.research.google.com/assets/colab-badge.svg\" alt=\"Open In Colab\"/></a>"
      ]
    },
    {
      "cell_type": "markdown",
      "source": [
        "### Step 1: Install the Required Libraries\n",
        "This part installs the necessary libraries for running the model and fine-tuning. You can skip it if you already have them installed."
      ],
      "metadata": {
        "id": "-vNYhwLQa4iG"
      }
    },
    {
      "cell_type": "code",
      "execution_count": null,
      "metadata": {
        "id": "4gNsyrK3ajvR"
      },
      "outputs": [],
      "source": [
        "pip install transformers datasets accelerate bitsandbytes peft\n"
      ]
    },
    {
      "cell_type": "markdown",
      "source": [
        "### Step 2: Load and Prepare Dataset\n",
        "Here, we are loading a dataset for sentiment analysis . It contains labeled reviews that are classified as either positive or negative."
      ],
      "metadata": {
        "id": "hZ-DkTwnbVOk"
      }
    },
    {
      "cell_type": "code",
      "source": [
        "import pandas as pd\n",
        "\n",
        "# Load the dataset\n",
        "file_path = '/mnt/data/finance_sentiment.csv'\n",
        "df = pd.read_csv(file_path)\n",
        "\n",
        "# Display the first few rows to understand the structure\n",
        "df.head()\n"
      ],
      "metadata": {
        "id": "T0U2cNcPbXtV"
      },
      "execution_count": null,
      "outputs": []
    },
    {
      "cell_type": "code",
      "source": [
        "from sklearn.model_selection import train_test_split\n",
        "\n",
        "# Split the dataset into train and test sets (80% train, 20% test)\n",
        "train_df, test_df = train_test_split(df, test_size=0.2, random_state=42, stratify=df['label'])\n"
      ],
      "metadata": {
        "id": "ks0cjlL1dWUE"
      },
      "execution_count": null,
      "outputs": []
    }
  ]
}